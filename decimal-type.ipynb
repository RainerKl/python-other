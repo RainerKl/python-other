{
 "cells": [
  {
   "cell_type": "code",
   "execution_count": 9,
   "source": [
    "'''The recommended way to handle money - avoids floating point rounding errors'''"
   ],
   "outputs": [
    {
     "output_type": "execute_result",
     "data": {
      "text/plain": [
       "'The recommended way to handle money - avoids floating point rounding errors'"
      ]
     },
     "metadata": {},
     "execution_count": 9
    }
   ],
   "metadata": {}
  },
  {
   "cell_type": "code",
   "execution_count": 10,
   "source": [
    "# https://docs.python.org/3/library/decimal.html"
   ],
   "outputs": [],
   "metadata": {}
  },
  {
   "cell_type": "code",
   "execution_count": 2,
   "source": [
    "from decimal import *"
   ],
   "outputs": [],
   "metadata": {}
  },
  {
   "cell_type": "code",
   "execution_count": 5,
   "source": [
    "# Example calc with 28-digit precision\r\n",
    "getcontext().prec = 28\r\n",
    "Decimal(1) / Decimal(7) # Decimal('0.1428571428571428571428571429')"
   ],
   "outputs": [
    {
     "output_type": "execute_result",
     "data": {
      "text/plain": [
       "Decimal('0.1428571428571428571428571429')"
      ]
     },
     "metadata": {},
     "execution_count": 5
    }
   ],
   "metadata": {}
  },
  {
   "cell_type": "code",
   "execution_count": 11,
   "source": [
    "# Example calc with 6-digit precision\r\n",
    "getcontext().prec = 6 \r\n",
    "Decimal(1) / Decimal(7) #Decimal('0.142857')"
   ],
   "outputs": [
    {
     "output_type": "execute_result",
     "data": {
      "text/plain": [
       "Decimal('0.142857')"
      ]
     },
     "metadata": {},
     "execution_count": 11
    }
   ],
   "metadata": {}
  }
 ],
 "metadata": {
  "orig_nbformat": 4,
  "language_info": {
   "name": "python",
   "version": "3.8.5",
   "mimetype": "text/x-python",
   "codemirror_mode": {
    "name": "ipython",
    "version": 3
   },
   "pygments_lexer": "ipython3",
   "nbconvert_exporter": "python",
   "file_extension": ".py"
  },
  "kernelspec": {
   "name": "python3",
   "display_name": "Python 3.8.5 32-bit"
  },
  "interpreter": {
   "hash": "0a7d1dd6c2ca8aa2f6b8c77e5b98535f702a4c5a801df20500bdb2065ffe99d1"
  }
 },
 "nbformat": 4,
 "nbformat_minor": 2
}
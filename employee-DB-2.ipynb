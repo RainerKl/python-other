{
 "cells": [
  {
   "cell_type": "markdown",
   "source": [
    "4 Principles of OOP:\r\n",
    "1. Inheritance: Child class takes on the attributes and methods of the parent class\r\n",
    "2. Polymorphism\r\n",
    "3. Encapsulation\r\n",
    "4. Abstraction"
   ],
   "metadata": {}
  },
  {
   "cell_type": "code",
   "execution_count": 31,
   "source": [
    "# Creating a list of employees\r\n",
    "# position, name, ahe, level, salary\r\n",
    "se1 = [\"Software Engineer\", \"Max\", 20, \"Junior\", 5000]\r\n",
    "se2 = [\"Software Engineer\", \"Lisa\", 25, \"Junior\", 7000]\r\n",
    "d1 = [\"Designer\",\"Philipp\"]\r\n"
   ],
   "outputs": [],
   "metadata": {}
  },
  {
   "cell_type": "code",
   "execution_count": 86,
   "source": [
    "# class\r\n",
    "# blueprint of the data structure\r\n",
    "class SoftwareEngineer:\r\n",
    "    \r\n",
    "    # class attributes - tied to entire class\r\n",
    "    alias = \"Keyboard Magician\"\r\n",
    "    \r\n",
    "    # a special method to initialize our object\r\n",
    "    # d under method\r\n",
    "    # every object already has these unless we define our own that will then take priority\r\n",
    "    def __init__(self, name, age, level, salary):\r\n",
    "        # instance attributes - tied to one object\r\n",
    "        self.name = name\r\n",
    "        self.age = age\r\n",
    "        self.level = level\r\n",
    "        self.salary = salary\r\n",
    "\r\n",
    "    # instance method\r\n",
    "    def code(self): # self refers to the instance\r\n",
    "        print(f'{self.name} is writing code.')\r\n",
    "        \r\n",
    "    # second instance method\r\n",
    "    def code_in_language(self, language):\r\n",
    "        print(f'{self.name} is writing code in {language}.')\r\n",
    "            \r\n",
    "    # d under methods\r\n",
    "    # already provided for us with default implementation\r\n",
    "    # we can redefine\r\n",
    "    \r\n",
    "    # gets used whenever our object is converted to a string\r\n",
    "    def __str__(self):\r\n",
    "        information = f\"name = {self.name}, age = {self.age}, level = {self.level}\"\r\n",
    "        return information\r\n",
    "    \r\n",
    "    def __eq__(self, other):\r\n",
    "        return self.name == other.name and self.age == other.age\r\n",
    "    \r\n",
    "    # we can only use this function on the class because it does not specify a \"self\" instance\r\n",
    "    # we add a @staticmethod decorator - shows that it can be applied on either an instance or the entire class\r\n",
    "    @staticmethod\r\n",
    "    def entry_salary(age):\r\n",
    "        if age < 25:\r\n",
    "            return 5000\r\n",
    "        if age < 30:\r\n",
    "            return 7000\r\n",
    "        return 9000\r\n",
    "    \r\n",
    "        "
   ],
   "outputs": [],
   "metadata": {}
  },
  {
   "cell_type": "code",
   "execution_count": 87,
   "source": [
    "# instances (objects)\r\n",
    "se1 = SoftwareEngineer(\"Max\", 20, \"Junior\", 5000)\r\n",
    "se2 = SoftwareEngineer(\"Lisa\", 25, \"Senior\", 7000)\r\n",
    "se3 = SoftwareEngineer(\"Lisa\",25, \"Senior\", 7000)\r\n"
   ],
   "outputs": [],
   "metadata": {}
  },
  {
   "cell_type": "code",
   "execution_count": 66,
   "source": [
    "se1.code()\r\n",
    "se1.code_in_language('Python')\r\n",
    "print(se1)\r\n"
   ],
   "outputs": [
    {
     "output_type": "stream",
     "name": "stdout",
     "text": [
      "Max is writing code.\n",
      "Max is writing code in Python.\n",
      "name = Max, age = 20, level = Junior\n"
     ]
    }
   ],
   "metadata": {}
  },
  {
   "cell_type": "code",
   "execution_count": 67,
   "source": [
    "se2.code()\r\n",
    "se2.code_in_language('C++')\r\n",
    "print(se2)"
   ],
   "outputs": [
    {
     "output_type": "stream",
     "name": "stdout",
     "text": [
      "Lisa is writing code.\n",
      "Lisa is writing code in C++.\n",
      "name = Lisa, age = 25, level = Junior\n"
     ]
    }
   ],
   "metadata": {}
  },
  {
   "cell_type": "code",
   "execution_count": 88,
   "source": [
    "# equality\r\n",
    "# would return False in its original implementation bc it compared memory addresses\r\n",
    "# returns True now because we only compare name and age\r\n",
    "se2 == se3 # True"
   ],
   "outputs": [
    {
     "output_type": "execute_result",
     "data": {
      "text/plain": [
       "True"
      ]
     },
     "metadata": {},
     "execution_count": 88
    }
   ],
   "metadata": {}
  },
  {
   "cell_type": "code",
   "execution_count": 90,
   "source": [
    "SoftwareEngineer.entry_salary(24)"
   ],
   "outputs": [
    {
     "output_type": "execute_result",
     "data": {
      "text/plain": [
       "5000"
      ]
     },
     "metadata": {},
     "execution_count": 90
    }
   ],
   "metadata": {}
  },
  {
   "cell_type": "markdown",
   "source": [
    "To study inheritance we create a parent class Employee and child classes SoftwareEngineer and Designer.\r\n",
    "Methods of the parent class are used on the child classes"
   ],
   "metadata": {}
  },
  {
   "cell_type": "code",
   "execution_count": 117,
   "source": [
    "class Employee:\r\n",
    "    def __init__(self,name,age, salary):\r\n",
    "        self.name = name\r\n",
    "        self.age = age\r\n",
    "        \r\n",
    "    def work(self):\r\n",
    "        print(f'{self.name} is working')\r\n",
    "        \r\n",
    "class SoftwareEngineer(Employee):\r\n",
    "    # if we override the initializer, we must also class super() and oberride\r\n",
    "    def __init__(self,name,age, salary, level):\r\n",
    "        # we get the name and age from the parent class by use of super() initializer so our object is called correctly\r\n",
    "        super().__init__(name,age,salary)\r\n",
    "        self.level = level\r\n",
    "    \r\n",
    "    # a method specific to the SoftwareEngineer class\r\n",
    "    def debug(self):\r\n",
    "        print(f'{self.name} is debugging')\r\n",
    "        \r\n",
    "    # overriding the work() method\r\n",
    "    def work(self):\r\n",
    "        print(f'{self.name} is coding')\r\n",
    "\r\n",
    "class Designer(Employee):\r\n",
    "    # a method specific to the Designer class\r\n",
    "    def draw(self):\r\n",
    "        print(f'{self.name} is drawing')\r\n",
    "    \r\n",
    "    # overriding the work() method\r\n",
    "    def work(self):\r\n",
    "        print(f'{self.name} is designering')"
   ],
   "outputs": [],
   "metadata": {}
  },
  {
   "cell_type": "code",
   "execution_count": 118,
   "source": [
    "se = SoftwareEngineer(\"Max\",25, 6000, \"Junior\")\r\n",
    "print(se.name, se.age)\r\n",
    "se.work()\r\n",
    "se.debug()"
   ],
   "outputs": [
    {
     "output_type": "stream",
     "name": "stdout",
     "text": [
      "Max 25\n",
      "Max is coding\n",
      "Max is debugging\n"
     ]
    }
   ],
   "metadata": {}
  },
  {
   "cell_type": "code",
   "execution_count": 119,
   "source": [
    "d = Designer(\"Philipp\",27, 7000)\r\n",
    "print(d.name, d.age)\r\n",
    "d.work()\r\n",
    "d.draw()"
   ],
   "outputs": [
    {
     "output_type": "stream",
     "name": "stdout",
     "text": [
      "Philipp 27\n",
      "Philipp is designering\n",
      "Philipp is drawing\n"
     ]
    }
   ],
   "metadata": {}
  },
  {
   "cell_type": "code",
   "execution_count": null,
   "source": [
    "## Polymorphism\r\n",
    "## code that works on the superclass but also on any subclass\r\n",
    "## a way to use a class the same way we use the parent\r\n",
    "## but the subclass treats this in their own way"
   ],
   "outputs": [],
   "metadata": {}
  },
  {
   "cell_type": "code",
   "execution_count": 124,
   "source": [
    "employees = [SoftwareEngineer(\"Max\",25, 6000, \"Junior\"),\r\n",
    "             SoftwareEngineer(\"Gal\",25, 7000, \"Medior\"),\r\n",
    "             Designer(\"Guy\",25, 8000)]"
   ],
   "outputs": [],
   "metadata": {}
  },
  {
   "cell_type": "code",
   "execution_count": 125,
   "source": [
    "def motivate_employees(employees):\r\n",
    "    for employee in employees:\r\n",
    "        employee.work()"
   ],
   "outputs": [],
   "metadata": {}
  },
  {
   "cell_type": "code",
   "execution_count": 126,
   "source": [
    "motivate_employees(employees)"
   ],
   "outputs": [
    {
     "output_type": "stream",
     "name": "stdout",
     "text": [
      "Max is coding\n",
      "Gal is coding\n",
      "Guy is designering\n"
     ]
    }
   ],
   "metadata": {}
  },
  {
   "cell_type": "code",
   "execution_count": null,
   "source": [
    "## Encapsulation - hiding how it is implemented"
   ],
   "outputs": [],
   "metadata": {}
  },
  {
   "cell_type": "code",
   "execution_count": 149,
   "source": [
    "class SoftwareEngineer:\r\n",
    "\r\n",
    "    def __init__(self, name, age):\r\n",
    "        # instance attributes - tied to one object\r\n",
    "        self.name = name\r\n",
    "        self.age = age\r\n",
    "        # self._parameters kept internal but still accessible\r\n",
    "        # self.__parameters not reachable outside (this is almost never used)\r\n",
    "        self._salary = None\r\n",
    "        self._no_of_bugs_solved = 0\r\n",
    "        \r\n",
    "    def code(self):\r\n",
    "        self._no_of_bugs_solved += 1\r\n",
    "        \r\n",
    "    # defining public functions to deal with _salary\r\n",
    "    # the getter and the setter shoud be the only way to access _salary\r\n",
    "    \r\n",
    "    # setter\r\n",
    "    def set_salary(self, base_value):\r\n",
    "        # check value, enforce constraints\r\n",
    "        self._salary = self._calculate_salary(base_value)\r\n",
    "    # getter\r\n",
    "    def get_salary(self):\r\n",
    "        return self._salary\r\n",
    "    \r\n",
    "    # Adding an internal function\r\n",
    "    \r\n",
    "    def _calculate_salary(self, base_value):\r\n",
    "        if self._no_of_bugs_solved<10:\r\n",
    "            return base_value\r\n",
    "        if self._no_of_bugs_solved>100:\r\n",
    "            return base_value * 2\r\n",
    "        return base_value * 3\r\n"
   ],
   "outputs": [],
   "metadata": {}
  },
  {
   "cell_type": "code",
   "execution_count": 151,
   "source": [
    "se = SoftwareEngineer(\"Max\",12)\r\n",
    "print (se.age, se.name)\r\n",
    "print (se._salary)\r\n",
    "se.set_salary(6000)\r\n",
    "se.get_salary()"
   ],
   "outputs": [
    {
     "output_type": "stream",
     "name": "stdout",
     "text": [
      "12 Max\n",
      "None\n"
     ]
    },
    {
     "output_type": "execute_result",
     "data": {
      "text/plain": [
       "6000"
      ]
     },
     "metadata": {},
     "execution_count": 151
    }
   ],
   "metadata": {}
  },
  {
   "cell_type": "code",
   "execution_count": 154,
   "source": [
    "for i in range(80):\r\n",
    "    se.code()\r\n",
    "\r\n",
    "# abstraction - does not tell you how it was calculated\r\n",
    "se.set_salary(6000)\r\n",
    "print(se.get_salary()) # returns 12000"
   ],
   "outputs": [
    {
     "output_type": "stream",
     "name": "stdout",
     "text": [
      "12000\n"
     ]
    }
   ],
   "metadata": {}
  },
  {
   "cell_type": "code",
   "execution_count": 157,
   "source": [
    "# Properties decorator\r\n",
    "# a more python way to set and get the salaries"
   ],
   "outputs": [],
   "metadata": {}
  },
  {
   "cell_type": "code",
   "execution_count": 160,
   "source": [
    "class SoftwareEngineer:\r\n",
    "    def __init__(self):\r\n",
    "        self._salary = None\r\n",
    "        \r\n",
    "    # to get the value\r\n",
    "    @property\r\n",
    "    def salary(self):\r\n",
    "        return self._salary\r\n",
    "    \r\n",
    "    # to set the value\r\n",
    "    @salary.setter\r\n",
    "    def salary(self, value):\r\n",
    "        self._salary = value\r\n",
    "    \r\n",
    "    # to delete\r\n",
    "    @salary.deleter\r\n",
    "    def salary(self):\r\n",
    "        del self._salary\r\n",
    "    "
   ],
   "outputs": [],
   "metadata": {}
  },
  {
   "cell_type": "code",
   "execution_count": 163,
   "source": [
    "se.salary = 6000\r\n",
    "print(se.salary)"
   ],
   "outputs": [
    {
     "output_type": "stream",
     "name": "stdout",
     "text": [
      "6000\n"
     ]
    }
   ],
   "metadata": {}
  },
  {
   "cell_type": "code",
   "execution_count": 162,
   "source": [
    "del se.salary\r\n",
    "print(se.salary)"
   ],
   "outputs": [
    {
     "output_type": "error",
     "ename": "AttributeError",
     "evalue": "'SoftwareEngineer' object has no attribute 'salary'",
     "traceback": [
      "\u001b[1;31m---------------------------------------------------------------------------\u001b[0m",
      "\u001b[1;31mAttributeError\u001b[0m                            Traceback (most recent call last)",
      "\u001b[1;32m<ipython-input-162-945eba02e2ef>\u001b[0m in \u001b[0;36m<module>\u001b[1;34m\u001b[0m\n\u001b[0;32m      1\u001b[0m \u001b[1;32mdel\u001b[0m \u001b[0mse\u001b[0m\u001b[1;33m.\u001b[0m\u001b[0msalary\u001b[0m\u001b[1;33m\u001b[0m\u001b[1;33m\u001b[0m\u001b[0m\n\u001b[1;32m----> 2\u001b[1;33m \u001b[0mprint\u001b[0m\u001b[1;33m(\u001b[0m\u001b[0mse\u001b[0m\u001b[1;33m.\u001b[0m\u001b[0msalary\u001b[0m\u001b[1;33m)\u001b[0m\u001b[1;33m\u001b[0m\u001b[1;33m\u001b[0m\u001b[0m\n\u001b[0m",
      "\u001b[1;31mAttributeError\u001b[0m: 'SoftwareEngineer' object has no attribute 'salary'"
     ]
    }
   ],
   "metadata": {}
  }
 ],
 "metadata": {
  "orig_nbformat": 4,
  "language_info": {
   "name": "python",
   "version": "3.8.5",
   "mimetype": "text/x-python",
   "codemirror_mode": {
    "name": "ipython",
    "version": 3
   },
   "pygments_lexer": "ipython3",
   "nbconvert_exporter": "python",
   "file_extension": ".py"
  },
  "kernelspec": {
   "name": "python3",
   "display_name": "Python 3.8.5 32-bit"
  },
  "interpreter": {
   "hash": "0a7d1dd6c2ca8aa2f6b8c77e5b98535f702a4c5a801df20500bdb2065ffe99d1"
  }
 },
 "nbformat": 4,
 "nbformat_minor": 2
}
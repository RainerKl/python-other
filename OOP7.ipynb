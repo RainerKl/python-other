{
 "cells": [
  {
   "cell_type": "markdown",
   "source": [
    "4 Principles of OOP:\r\n",
    "1. Inheritance\r\n",
    "2. Polymorphism\r\n",
    "3. Encapsulation\r\n",
    "4. Abstraction"
   ],
   "metadata": {}
  },
  {
   "cell_type": "code",
   "execution_count": null,
   "source": [
    "# Creating a list of employees\r\n",
    "# position, name, ahe, level, salary\r\n",
    "se1 = [\"Software Engineer\", \"Max\", 20, \"Junior\", 5000]\r\n",
    "se1 = [\"Software Engineer\", \"Lisa\", 25, \"Junior\", 7000]\r\n",
    "\r\n",
    "#This gets messy when we need to add/edit\r\n",
    "\r\n",
    "# we should use objects and a class"
   ],
   "outputs": [],
   "metadata": {}
  },
  {
   "cell_type": "code",
   "execution_count": 6,
   "source": [
    "# class\r\n",
    "# blueprint of the data structure\r\n",
    "class SoftwareEngineer:\r\n",
    "    \r\n",
    "    # class attributes - tied to entire class\r\n",
    "    alias = \"Keyboard Magician\"\r\n",
    "    \r\n",
    "    # a special method to initialize our object\r\n",
    "    def __init__(self, name, age, level, salary):\r\n",
    "        # instance attributes - tied to one object\r\n",
    "        self.name = name\r\n",
    "        self.age = age\r\n",
    "        self.level = level\r\n",
    "        self.salary = salary"
   ],
   "outputs": [],
   "metadata": {}
  },
  {
   "cell_type": "code",
   "execution_count": 7,
   "source": [
    "# instance (object)\r\n",
    "se1 = SoftwareEngineer(\"Max\", 20, \"Junior\", 5000)\r\n",
    "print(f'{se1.name} is {se1.age} years old.')\r\n",
    "print(f'{se1.name} is a {SoftwareEngineer.alias}.')"
   ],
   "outputs": [
    {
     "output_type": "stream",
     "name": "stdout",
     "text": [
      "Max is 20 years old.\n",
      "Max is a Keyboard Magician.\n"
     ]
    }
   ],
   "metadata": {}
  },
  {
   "cell_type": "code",
   "execution_count": 9,
   "source": [
    "# adding second instance (object)\r\n",
    "se2 = SoftwareEngineer(\"Lisa\", 25, \"Junior\", 7000)\r\n",
    "print(f'{se2.name} is {se2.age}-year-old {SoftwareEngineer.alias}.')"
   ],
   "outputs": [
    {
     "output_type": "stream",
     "name": "stdout",
     "text": [
      "Lisa is 25-year-old Keyboard Magician.\n"
     ]
    }
   ],
   "metadata": {}
  }
 ],
 "metadata": {
  "orig_nbformat": 4,
  "language_info": {
   "name": "python",
   "version": "3.8.5",
   "mimetype": "text/x-python",
   "codemirror_mode": {
    "name": "ipython",
    "version": 3
   },
   "pygments_lexer": "ipython3",
   "nbconvert_exporter": "python",
   "file_extension": ".py"
  },
  "kernelspec": {
   "name": "python3",
   "display_name": "Python 3.8.5 32-bit"
  },
  "interpreter": {
   "hash": "0a7d1dd6c2ca8aa2f6b8c77e5b98535f702a4c5a801df20500bdb2065ffe99d1"
  }
 },
 "nbformat": 4,
 "nbformat_minor": 2
}